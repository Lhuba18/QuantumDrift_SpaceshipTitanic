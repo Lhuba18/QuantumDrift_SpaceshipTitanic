{
 "cells": [
  {
   "cell_type": "markdown",
   "id": "542c63ba",
   "metadata": {},
   "source": [
    "# 🚀 Quantum Drift: Passenger Fate Prediction\n",
    "This notebook includes data loading, preprocessing, and visual EDA for the Spaceship Titanic dataset."
   ]
  },
  {
   "cell_type": "code",
   "execution_count": null,
   "id": "b6c27327",
   "metadata": {},
   "outputs": [],
   "source": [
    "\n",
    "import pandas as pd\n",
    "import seaborn as sns\n",
    "import matplotlib.pyplot as plt\n",
    "import numpy as np\n",
    "import os\n",
    "\n",
    "# Ensure output directory exists\n",
    "os.makedirs(\"output\", exist_ok=True)\n"
   ]
  },
  {
   "cell_type": "markdown",
   "id": "9188fb20",
   "metadata": {},
   "source": [
    "## 1. Load and Clean Data"
   ]
  },
  {
   "cell_type": "code",
   "execution_count": null,
   "id": "42b4f1d2",
   "metadata": {},
   "outputs": [],
   "source": [
    "\n",
    "# Load cleaned training data\n",
    "df = pd.read_csv(\"../output/cleaned_train.csv\")\n",
    "\n",
    "# Fill and convert types early to avoid visual errors\n",
    "df['CryoSleep'] = df['CryoSleep'].fillna(False).astype(bool)\n",
    "df['VIP'] = df['VIP'].fillna(False).astype(bool)\n",
    "df['Age'] = df['Age'].fillna(df['Age'].median())\n",
    "df['TotalSpend'] = df[['RoomService', 'FoodCourt', 'ShoppingMall', 'Spa', 'VRDeck']].sum(axis=1)\n"
   ]
  },
  {
   "cell_type": "markdown",
   "id": "4a738e6b",
   "metadata": {},
   "source": [
    "## 2. Histogram: Age Distribution"
   ]
  },
  {
   "cell_type": "code",
   "execution_count": null,
   "id": "60e0cc17",
   "metadata": {},
   "outputs": [],
   "source": [
    "\n",
    "plt.figure(figsize=(8, 5))\n",
    "sns.histplot(df['Age'], bins=30, kde=True)\n",
    "plt.title(\"Age Distribution\")\n",
    "plt.xlabel(\"Age\")\n",
    "plt.ylabel(\"Count\")\n",
    "plt.savefig(\"output/plot_age_histogram.png\")\n",
    "plt.show()\n"
   ]
  },
  {
   "cell_type": "markdown",
   "id": "64b23378",
   "metadata": {},
   "source": [
    "## 3. Boxplot: TotalSpend"
   ]
  },
  {
   "cell_type": "code",
   "execution_count": null,
   "id": "1d8505c0",
   "metadata": {},
   "outputs": [],
   "source": [
    "\n",
    "plt.figure(figsize=(8, 3))\n",
    "sns.boxplot(x=df['TotalSpend'])\n",
    "plt.title(\"Boxplot of TotalSpend\")\n",
    "plt.savefig(\"output/plot_totalspend_boxplot.png\")\n",
    "plt.show()\n"
   ]
  },
  {
   "cell_type": "markdown",
   "id": "3b828651",
   "metadata": {},
   "source": [
    "## 4. Correlation Matrix"
   ]
  },
  {
   "cell_type": "code",
   "execution_count": null,
   "id": "268550c1",
   "metadata": {},
   "outputs": [],
   "source": [
    "\n",
    "numeric_df = df.select_dtypes(include=np.number)\n",
    "corr = numeric_df.corr()\n",
    "\n",
    "plt.figure(figsize=(10, 8))\n",
    "sns.heatmap(corr, annot=True, fmt=\".2f\", cmap=\"coolwarm\")\n",
    "plt.title(\"Correlation Matrix\")\n",
    "plt.savefig(\"output/plot_correlation_matrix.png\")\n",
    "plt.show()\n"
   ]
  },
  {
   "cell_type": "markdown",
   "id": "eb4f2802",
   "metadata": {},
   "source": [
    "## 5. Bar Charts: CryoSleep and VIP"
   ]
  },
  {
   "cell_type": "code",
   "execution_count": null,
   "id": "603c3b5b",
   "metadata": {},
   "outputs": [],
   "source": [
    "\n",
    "plt.figure(figsize=(6, 4))\n",
    "sns.countplot(x='CryoSleep', data=df)\n",
    "plt.title(\"CryoSleep Distribution\")\n",
    "plt.savefig(\"output/plot_cryo_count.png\")\n",
    "plt.show()\n",
    "\n",
    "plt.figure(figsize=(6, 4))\n",
    "sns.countplot(x='VIP', data=df)\n",
    "plt.title(\"VIP Distribution\")\n",
    "plt.savefig(\"output/plot_vip_count.png\")\n",
    "plt.show()\n"
   ]
  },
  {
   "cell_type": "markdown",
   "id": "89bffa5f",
   "metadata": {},
   "source": [
    "## 6. Stacked Bar Chart: Transported vs VIP"
   ]
  },
  {
   "cell_type": "code",
   "execution_count": null,
   "id": "5ca7a037",
   "metadata": {},
   "outputs": [],
   "source": [
    "\n",
    "vip_transport = pd.crosstab(df['VIP'], df['Transported'], normalize='index')\n",
    "vip_transport.plot(kind='bar', stacked=True, colormap='coolwarm')\n",
    "plt.title(\"Transported vs VIP Status\")\n",
    "plt.xlabel(\"VIP\")\n",
    "plt.ylabel(\"Proportion\")\n",
    "plt.legend(title='Transported')\n",
    "plt.savefig(\"output/plot_vip_vs_transported.png\")\n",
    "plt.show()\n"
   ]
  }
 ],
 "metadata": {},
 "nbformat": 4,
 "nbformat_minor": 5
}
